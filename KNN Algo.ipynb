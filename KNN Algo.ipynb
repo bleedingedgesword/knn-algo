{
 "cells": [
  {
   "cell_type": "code",
   "execution_count": 1,
   "id": "041cd622",
   "metadata": {},
   "outputs": [],
   "source": [
    "import pandas as pd\n",
    "import numpy as np\n",
    "import math\n",
    "import operator"
   ]
  },
  {
   "cell_type": "code",
   "execution_count": 2,
   "id": "272d060a",
   "metadata": {},
   "outputs": [],
   "source": [
    "data = pd.read_csv('D:\\PROJECT_DATA_CSV.csv',usecols=[1,2,3,4])"
   ]
  },
  {
   "cell_type": "code",
   "execution_count": 3,
   "id": "45afab4e",
   "metadata": {},
   "outputs": [],
   "source": [
    "def euclideanDistance(data1, data2, length):\n",
    "    distance = 0\n",
    "    for x in range(length):\n",
    "        distance += np.square(data1[x] - data2[x])\n",
    "    return np.sqrt(distance)"
   ]
  },
  {
   "cell_type": "code",
   "execution_count": 6,
   "id": "a2c1eaa7",
   "metadata": {},
   "outputs": [
    {
     "name": "stdout",
     "output_type": "stream",
     "text": [
      "\n",
      "\n",
      "With 1 Nearest Neighbour \n",
      "\n",
      "\n",
      "\n",
      "Predicted Class of the datapoint =  3\n",
      "\n",
      "Nearest Neighbour of the datapoints =  [6]\n",
      "\n",
      "\n",
      "With 3 Nearest Neighbours\n",
      "\n",
      "\n",
      "\n",
      "Predicted class of the datapoint =  3\n",
      "\n",
      "Nearest Neighbours of the datapoints =  [6]\n",
      "\n",
      "\n",
      "With 5 Nearest Neighbours\n",
      "\n",
      "\n",
      "\n",
      "Predicted class of the datapoint =  3\n",
      "\n",
      "Nearest Neighbours of the datapoints =  [6, 1, 13, 21, 18]\n"
     ]
    }
   ],
   "source": [
    "def knn(trainingSet, testInstance, k):\n",
    "    distances = {}\n",
    "    sort = {}\n",
    "    length = testInstance.shape[1]\n",
    "    for x in range(len(trainingSet)):\n",
    "\n",
    "        dist = euclideanDistance(testInstance, trainingSet.iloc[x], length)\n",
    "\n",
    "        distances[x] = dist[0]\n",
    "\n",
    "    sorted_d = sorted(distances.items(), key=operator.itemgetter(1))\n",
    "    neighbors = []\n",
    "    for x in range(k):\n",
    "        neighbors.append(sorted_d[x][0])\n",
    "\n",
    "    classVotes = {}\n",
    "    \n",
    "    for x in range(len(neighbors)):\n",
    "        response = trainingSet.iloc[neighbors[x]][-1]\n",
    " \n",
    "        if response in classVotes:\n",
    "            classVotes[response] += 1\n",
    "        else:\n",
    "            classVotes[response] = 1\n",
    "\n",
    "    sortedVotes = sorted(classVotes.items(), key=operator.itemgetter(1), reverse=True)\n",
    "    return(sortedVotes[0][0], neighbors)\n",
    "\n",
    "\n",
    "testSet = [[1,0,4,2]]\n",
    "test = pd.DataFrame(testSet)\n",
    "\n",
    "print('\\n\\nWith 1 Nearest Neighbour \\n\\n')\n",
    "k = 1\n",
    "\n",
    "result,neigh = knn(data, test, k)\n",
    "\n",
    "print('\\nPredicted Class of the datapoint = ', result)\n",
    "\n",
    "print('\\nNearest Neighbour of the datapoints = ',neigh)\n",
    "\n",
    "\n",
    "print('\\n\\nWith 3 Nearest Neighbours\\n\\n')\n",
    "\n",
    "result,neigh = knn(data, test, k) \n",
    "print('\\nPredicted class of the datapoint = ',result)\n",
    "print('\\nNearest Neighbours of the datapoints = ',neigh)\n",
    "\n",
    "print('\\n\\nWith 5 Nearest Neighbours\\n\\n')\n",
    "\n",
    "k = 5\n",
    "result,neigh = knn(data, test, k) \n",
    "\n",
    "# Predicted class \n",
    "print('\\nPredicted class of the datapoint = ',result)\n",
    "\n",
    "# Nearest neighbor\n",
    "print('\\nNearest Neighbours of the datapoints = ',neigh)"
   ]
  }
 ],
 "metadata": {
  "kernelspec": {
   "display_name": "Python 3 (ipykernel)",
   "language": "python",
   "name": "python3"
  },
  "language_info": {
   "codemirror_mode": {
    "name": "ipython",
    "version": 3
   },
   "file_extension": ".py",
   "mimetype": "text/x-python",
   "name": "python",
   "nbconvert_exporter": "python",
   "pygments_lexer": "ipython3",
   "version": "3.10.3"
  }
 },
 "nbformat": 4,
 "nbformat_minor": 5
}
